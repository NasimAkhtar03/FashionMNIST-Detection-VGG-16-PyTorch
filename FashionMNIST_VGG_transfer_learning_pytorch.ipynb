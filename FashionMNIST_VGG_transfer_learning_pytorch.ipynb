{
  "nbformat": 4,
  "nbformat_minor": 0,
  "metadata": {
    "accelerator": "GPU",
    "colab": {
      "name": "FashionMNIST_VGG_transfer_learning_pytorch.ipynb",
      "provenance": [],
      "collapsed_sections": [],
      "include_colab_link": true
    },
    "kernelspec": {
      "display_name": "Python 3",
      "language": "python",
      "name": "python3"
    },
    "language_info": {
      "codemirror_mode": {
        "name": "ipython",
        "version": 3
      },
      "file_extension": ".py",
      "mimetype": "text/x-python",
      "name": "python",
      "nbconvert_exporter": "python",
      "pygments_lexer": "ipython3",
      "version": "3.9.5"
    }
  },
  "cells": [
    {
      "cell_type": "markdown",
      "metadata": {
        "id": "view-in-github",
        "colab_type": "text"
      },
      "source": [
        "<a href=\"https://colab.research.google.com/github/NasimAkhtar03/FashionMNIST-Detection-VGG-16-PyTorch/blob/main/FashionMNIST_VGG_transfer_learning_pytorch.ipynb\" target=\"_parent\"><img src=\"https://colab.research.google.com/assets/colab-badge.svg\" alt=\"Open In Colab\"/></a>"
      ]
    },
    {
      "cell_type": "code",
      "metadata": {
        "id": "GmuIQd0duTsC"
      },
      "source": [
        "# Jovian Commit Essentials\n",
        "# Please retain and execute this cell without modifying the contents for `jovian.commit` to work\n",
        "!pip install jovian --upgrade -q\n",
        "import jovian\n",
        "jovian.set_project('fashionmnist-vgg-transfer-learning-pytorch-ee68a')\n",
        "jovian.set_colab_id('1lwdVpRvjtVJu4xNjKfHt1YiHjUJwWWo9')"
      ],
      "execution_count": null,
      "outputs": []
    },
    {
      "cell_type": "markdown",
      "metadata": {
        "id": "PAblCsYCu72R"
      },
      "source": [
        "# Setting up Environment"
      ]
    },
    {
      "cell_type": "code",
      "metadata": {
        "id": "gRlE3Fd19ITj"
      },
      "source": [
        "# Data Science Tools\n",
        "import numpy as np\n",
        "import pandas as pd\n",
        "import os\n",
        "\n",
        "# Pytorch\n",
        "import torch\n",
        "import torch.nn as nn\n",
        "import torch.nn.functional as F\n",
        "from torch import cuda, optim\n",
        "from torch.utils.data import DataLoader, random_split\n",
        "\n",
        "# Useful library for examining network\n",
        "from torchsummary import summary\n",
        "\n",
        "# Model, Datasets and transformations\n",
        "import torchvision\n",
        "import torchvision.transforms as T\n",
        "from torchvision.datasets import FashionMNIST\n",
        "from torchvision.models import vgg16, vgg19, vgg16_bn, vgg19_bn\n",
        "\n",
        "# Timing utility\n",
        "from timeit import default_timer as timer\n",
        "\n",
        "# Log outputs\n",
        "from TrainingLog import TrainingLog"
      ],
      "execution_count": null,
      "outputs": []
    },
    {
      "cell_type": "code",
      "metadata": {
        "colab": {
          "base_uri": "https://localhost:8080/"
        },
        "id": "sj55LB4_Igcl",
        "outputId": "e3770672-56a7-41ff-f845-be068ce62205"
      },
      "source": [
        "# Whether to train on a gpu\n",
        "train_on_gpu = cuda.is_available()\n",
        "print(f'Train on gpu: {train_on_gpu}')\n",
        "\n",
        "# Select Device\n",
        "device = torch.device(\"cuda:0\" if train_on_gpu else \"cpu\")\n",
        "\n",
        "# Number of gpus\n",
        "multi_gpu = False\n",
        "if train_on_gpu:\n",
        "    gpu_count = cuda.device_count()\n",
        "    print(f'{gpu_count} gpus detected.')\n",
        "    if gpu_count > 1:\n",
        "        multi_gpu = True\n",
        "    else:\n",
        "        multi_gpu = False"
      ],
      "execution_count": null,
      "outputs": [
        {
          "output_type": "stream",
          "text": [
            "Train on gpu: True\n",
            "1 gpus detected.\n"
          ],
          "name": "stdout"
        }
      ]
    },
    {
      "cell_type": "markdown",
      "metadata": {
        "id": "qIVO4AVNkS3b"
      },
      "source": [
        "# Save and Load Checkpoints"
      ]
    },
    {
      "cell_type": "code",
      "metadata": {
        "id": "5psUS-CikWFS"
      },
      "source": [
        "def save_checkpoint(model, optimizer, training_history, file_path=\"checkpoint.tar\"):\n",
        "    checkpoint = {\n",
        "        'model': model,\n",
        "        'model_state_dict': model.state_dict(),\n",
        "        'optimizer': optimizer,\n",
        "        'optimizer_state_dict': optimizer.state_dict(),\n",
        "        'epochs': model.epochs,\n",
        "        'training_history': training_history\n",
        "    }\n",
        "    torch.save(checkpoint, file_path)\n",
        "\n",
        "def load_checkpoint(file_path=\"checkpoint.tar\", train_on_gpu=False):\n",
        "    if train_on_gpu:\n",
        "        return torch.load(checkpoint_file, map_location='cuda:0')\n",
        "    else:\n",
        "        return torch.load(checkpoint_file)\n",
        "\n",
        "def save_best_model(model, file_path=\"best_model.pt\"):\n",
        "    best_model = {\n",
        "        'model': model,\n",
        "        'state_dict': model.state_dict(),\n",
        "        'epochs_trained': model.epochs if hasattr(model, 'epochs') else None\n",
        "    }\n",
        "    torch.save(best_model, file_path)\n",
        "\n",
        "def load_best_model(file_path=\"best_model.pt\"):\n",
        "    best_model = torch.load(file_path)\n",
        "    model = best_model['model']\n",
        "    model.load_state_dict(best_model['state_dict'])\n",
        "    model.epochs = best_model['epochs_trained']\n",
        "    return model"
      ],
      "execution_count": null,
      "outputs": []
    },
    {
      "cell_type": "markdown",
      "metadata": {
        "id": "pBPl3cKLurLZ"
      },
      "source": [
        "# Preparing the Dataset"
      ]
    },
    {
      "cell_type": "code",
      "metadata": {
        "id": "9-PhjTrBAE7E"
      },
      "source": [
        "train_size, valid_size = 50000, 10000\n",
        "random_seed = 0\n",
        "torch.manual_seed(random_seed)\n",
        "\n",
        "best_model_file_path = \"best_model.pt\"\n",
        "checkpoint_file = \"checkpoint.tar\"\n",
        "learning_rate = 0.01\n",
        "momentum = 0.5"
      ],
      "execution_count": null,
      "outputs": []
    },
    {
      "cell_type": "code",
      "metadata": {
        "id": "klyWmrIY-hou"
      },
      "source": [
        "transform = T.Compose([\n",
        "    T.Resize(size=32),\n",
        "    # T.Grayscale(num_output_channels=3),\n",
        "    T.ToTensor(),\n",
        "    T.Normalize((0.2860,), (0.3530,))\n",
        "])\n",
        "\n",
        "trainval_set = FashionMNIST(root='./data', download=True, transform=transform)\n",
        "train_set, valid_set = random_split(trainval_set, [train_size, valid_size])\n",
        "test_set = FashionMNIST(root='./data', train=False, transform=transform)\n",
        "classes = {v:k for k,v in trainval_set.class_to_idx.items()}"
      ],
      "execution_count": null,
      "outputs": []
    },
    {
      "cell_type": "code",
      "metadata": {
        "id": "phHHOX0BBNLU"
      },
      "source": [
        "batch_size = 200\n",
        "\n",
        "train_loader = DataLoader(train_set, batch_size=batch_size, shuffle=True, num_workers=2, pin_memory=True)\n",
        "valid_loader = DataLoader(valid_set, batch_size=batch_size, shuffle=False, num_workers=2, pin_memory=True)\n",
        "test_loader  = DataLoader(test_set, batch_size=batch_size, shuffle=False, num_workers=2, pin_memory=True)"
      ],
      "execution_count": null,
      "outputs": []
    },
    {
      "cell_type": "markdown",
      "metadata": {
        "id": "JRnEcJBROxrj"
      },
      "source": [
        "# Exploring the Dataset"
      ]
    },
    {
      "cell_type": "code",
      "metadata": {
        "colab": {
          "base_uri": "https://localhost:8080/"
        },
        "id": "4BRc5-TuA3uo",
        "outputId": "86d4b3a6-ad35-473a-b03e-d9d68239d5c0"
      },
      "source": [
        "print(\"Training Data Size:\", len(train_set))\n",
        "print(\"Validation Data Size:\", len(valid_set))\n",
        "print(\"Test Data Size:\", len(test_set))\n",
        "print(\"Classes:\")\n",
        "classes"
      ],
      "execution_count": null,
      "outputs": [
        {
          "output_type": "stream",
          "text": [
            "Training Data Size: 50000\n",
            "Validation Data Size: 10000\n",
            "Test Data Size: 10000\n",
            "Classes:\n"
          ],
          "name": "stdout"
        },
        {
          "output_type": "execute_result",
          "data": {
            "text/plain": [
              "{0: 'T-shirt/top',\n",
              " 1: 'Trouser',\n",
              " 2: 'Pullover',\n",
              " 3: 'Dress',\n",
              " 4: 'Coat',\n",
              " 5: 'Sandal',\n",
              " 6: 'Shirt',\n",
              " 7: 'Sneaker',\n",
              " 8: 'Bag',\n",
              " 9: 'Ankle boot'}"
            ]
          },
          "metadata": {
            "tags": []
          },
          "execution_count": 8
        }
      ]
    },
    {
      "cell_type": "markdown",
      "metadata": {
        "id": "4cVr1uXyYj36"
      },
      "source": [
        "## Example from each category"
      ]
    },
    {
      "cell_type": "code",
      "metadata": {
        "colab": {
          "base_uri": "https://localhost:8080/",
          "height": 442
        },
        "id": "18-_VHgHjUH6",
        "outputId": "6332e77c-dca2-420e-c942-9728535f3c36"
      },
      "source": [
        "import matplotlib.pyplot as plt\n",
        "%matplotlib inline\n",
        "\n",
        "# Take 1 example from each categoty\n",
        "accuired_lebels = set()\n",
        "subset = []\n",
        "for data, lebel in train_set:\n",
        "    if lebel not in accuired_lebels:\n",
        "        subset.append((lebel, data))\n",
        "        accuired_lebels.add(lebel)\n",
        "        if len(accuired_lebels) == 10: break\n",
        "subset.sort(key=lambda x: x[0])\n",
        "\n",
        "plt.figure(figsize=(16, 8))\n",
        "for i in range(10):\n",
        "    plt.subplot(2, 5, i+1)\n",
        "    plt.imshow(subset[i][1].numpy()[0])\n",
        "    plt.title(\"Label: {}\".format(classes[i]))\n",
        "    plt.xticks([])\n",
        "    plt.yticks([])\n",
        "plt.show()"
      ],
      "execution_count": null,
      "outputs": [
        {
          "output_type": "display_data",
          "data": {
            "image/png": "[encoded data removed]",
            "text/plain": [
              "<Figure size 1152x576 with 10 Axes>"
            ]
          },
          "metadata": {
            "tags": []
          }
        }
      ]
    },
    {
      "cell_type": "markdown",
      "metadata": {
        "id": "M6m8McklZhIO"
      },
      "source": [
        "# Building the Model"
      ]
    },
    {
      "cell_type": "markdown",
      "metadata": {
        "id": "OSfljbAacAxf"
      },
      "source": [
        "## Loading pretrained Model, Optimizer and Training History"
      ]
    },
    {
      "cell_type": "code",
      "metadata": {
        "colab": {
          "base_uri": "https://localhost:8080/"
        },
        "id": "j5fUHIxJcGmU",
        "outputId": "2a073af1-b7cf-4a91-ba99-8237ba2b11d5"
      },
      "source": [
        "# If Model is found in local directory\n",
        "if os.path.exists(checkpoint_file):\n",
        "    # Load Checkpoint\n",
        "    checkpoint = load_checkpoint(checkpoint_file, train_on_gpu)\n",
        "    \n",
        "    # Load Model\n",
        "    model = checkpoint['model']\n",
        "    model.load_state_dict(checkpoint['model_state_dict'])\n",
        "    model.epochs = checkpoint['epochs']\n",
        "\n",
        "    # Load Optimizer\n",
        "    optimizer = checkpoint['optimizer']\n",
        "    optimizer.load_state_dict(checkpoint['optimizer_state_dict'])\n",
        "\n",
        "    # Load Training History\n",
        "    training_history = checkpoint['training_history']\n",
        "    del checkpoint\n",
        "\n",
        "# If the model is not found in local directory then download it\n",
        "# And Define Optimizer and training history\n",
        "else:\n",
        "    # Download pretrained model\n",
        "    model = vgg16(pretrained=True)\n",
        "    \n",
        "    # Keeping gradients for pretrained weights fixed\n",
        "    for param in model.parameters():\n",
        "        param.requires_grad = False\n",
        "    \n",
        "    # Add one convolution layer at first in model.features\n",
        "    features = list(model.features)\n",
        "    features = [nn.Conv2d(1, 3, kernel_size=3, padding=1), nn.ReLU()] + features\n",
        "    model.features = nn.Sequential(*features)\n",
        "\n",
        "    # Add required classifier layers in model.classifier\n",
        "    num_inputs = model.classifier[6].out_features\n",
        "    classifier = list(model.classifier)\n",
        "    classifier.extend([\n",
        "        nn.ReLU(),\n",
        "        nn.Linear(num_inputs, 512),\n",
        "        nn.ReLU(),\n",
        "        nn.Linear(512, 256),\n",
        "        nn.ReLU(),\n",
        "        nn.Linear(256, 128),\n",
        "        nn.ReLU(),\n",
        "        nn.Linear(128, 64),\n",
        "        nn.ReLU(),\n",
        "        nn.Linear(64, len(classes)),\n",
        "        nn.LogSoftmax(dim=1)\n",
        "    ])\n",
        "    model.classifier = nn.Sequential(*classifier)\n",
        "\n",
        "    # Set 'epochs' attribute in model to keep track of of epochs trained\n",
        "    model.epochs = 0\n",
        "    \n",
        "    # Define Optimizer\n",
        "    optimizer = torch.optim.SGD(model.parameters(), lr=learning_rate, \n",
        "                                momentum=momentum)\n",
        "    \n",
        "    # Define DataFrame to keep track of training and\n",
        "    # Validation loss and accuracy\n",
        "    training_history = pd.DataFrame( \n",
        "        columns=[\n",
        "            'train_loss', 'valid_loss', \n",
        "            'train_acc', 'valid_acc'\n",
        "        ]\n",
        "    )\n",
        "    \n",
        "    # Add Checkpoint\n",
        "    save_checkpoint(model, optimizer, training_history)\n",
        "    \n",
        "model"
      ],
      "execution_count": null,
      "outputs": [
        {
          "output_type": "execute_result",
          "data": {
            "text/plain": [
              "VGG(\n",
              "  (features): Sequential(\n",
              "    (0): Conv2d(1, 3, kernel_size=(3, 3), stride=(1, 1), padding=(1, 1))\n",
              "    (1): ReLU()\n",
              "    (2): Conv2d(3, 64, kernel_size=(3, 3), stride=(1, 1), padding=(1, 1))\n",
              "    (3): ReLU(inplace=True)\n",
              "    (4): Conv2d(64, 64, kernel_size=(3, 3), stride=(1, 1), padding=(1, 1))\n",
              "    (5): ReLU(inplace=True)\n",
              "    (6): MaxPool2d(kernel_size=2, stride=2, padding=0, dilation=1, ceil_mode=False)\n",
              "    (7): Conv2d(64, 128, kernel_size=(3, 3), stride=(1, 1), padding=(1, 1))\n",
              "    (8): ReLU(inplace=True)\n",
              "    (9): Conv2d(128, 128, kernel_size=(3, 3), stride=(1, 1), padding=(1, 1))\n",
              "    (10): ReLU(inplace=True)\n",
              "    (11): MaxPool2d(kernel_size=2, stride=2, padding=0, dilation=1, ceil_mode=False)\n",
              "    (12): Conv2d(128, 256, kernel_size=(3, 3), stride=(1, 1), padding=(1, 1))\n",
              "    (13): ReLU(inplace=True)\n",
              "    (14): Conv2d(256, 256, kernel_size=(3, 3), stride=(1, 1), padding=(1, 1))\n",
              "    (15): ReLU(inplace=True)\n",
              "    (16): Conv2d(256, 256, kernel_size=(3, 3), stride=(1, 1), padding=(1, 1))\n",
              "    (17): ReLU(inplace=True)\n",
              "    (18): MaxPool2d(kernel_size=2, stride=2, padding=0, dilation=1, ceil_mode=False)\n",
              "    (19): Conv2d(256, 512, kernel_size=(3, 3), stride=(1, 1), padding=(1, 1))\n",
              "    (20): ReLU(inplace=True)\n",
              "    (21): Conv2d(512, 512, kernel_size=(3, 3), stride=(1, 1), padding=(1, 1))\n",
              "    (22): ReLU(inplace=True)\n",
              "    (23): Conv2d(512, 512, kernel_size=(3, 3), stride=(1, 1), padding=(1, 1))\n",
              "    (24): ReLU(inplace=True)\n",
              "    (25): MaxPool2d(kernel_size=2, stride=2, padding=0, dilation=1, ceil_mode=False)\n",
              "    (26): Conv2d(512, 512, kernel_size=(3, 3), stride=(1, 1), padding=(1, 1))\n",
              "    (27): ReLU(inplace=True)\n",
              "    (28): Conv2d(512, 512, kernel_size=(3, 3), stride=(1, 1), padding=(1, 1))\n",
              "    (29): ReLU(inplace=True)\n",
              "    (30): Conv2d(512, 512, kernel_size=(3, 3), stride=(1, 1), padding=(1, 1))\n",
              "    (31): ReLU(inplace=True)\n",
              "    (32): MaxPool2d(kernel_size=2, stride=2, padding=0, dilation=1, ceil_mode=False)\n",
              "  )\n",
              "  (avgpool): AdaptiveAvgPool2d(output_size=(7, 7))\n",
              "  (classifier): Sequential(\n",
              "    (0): Linear(in_features=25088, out_features=4096, bias=True)\n",
              "    (1): ReLU(inplace=True)\n",
              "    (2): Dropout(p=0.5, inplace=False)\n",
              "    (3): Linear(in_features=4096, out_features=4096, bias=True)\n",
              "    (4): ReLU(inplace=True)\n",
              "    (5): Dropout(p=0.5, inplace=False)\n",
              "    (6): Linear(in_features=4096, out_features=1000, bias=True)\n",
              "    (7): ReLU()\n",
              "    (8): Linear(in_features=1000, out_features=512, bias=True)\n",
              "    (9): ReLU()\n",
              "    (10): Linear(in_features=512, out_features=256, bias=True)\n",
              "    (11): ReLU()\n",
              "    (12): Linear(in_features=256, out_features=128, bias=True)\n",
              "    (13): ReLU()\n",
              "    (14): Linear(in_features=128, out_features=64, bias=True)\n",
              "    (15): ReLU()\n",
              "    (16): Linear(in_features=64, out_features=10, bias=True)\n",
              "    (17): LogSoftmax(dim=1)\n",
              "  )\n",
              ")"
            ]
          },
          "metadata": {
            "tags": []
          },
          "execution_count": 10
        }
      ]
    },
    {
      "cell_type": "markdown",
      "metadata": {
        "id": "5hCxP1PNdhkF"
      },
      "source": [
        "## Calculating total and training parameters"
      ]
    },
    {
      "cell_type": "code",
      "metadata": {
        "colab": {
          "base_uri": "https://localhost:8080/"
        },
        "id": "c50YStV5dfhB",
        "outputId": "84297ea7-31c8-4309-e726-098b7f694008"
      },
      "source": [
        "total_params = sum(p.numel() for p in model.parameters())\n",
        "print(f'{total_params:,} total parameters.')\n",
        "total_trainable_params = sum(\n",
        "    p.numel() for p in model.parameters() if p.requires_grad)\n",
        "print(f'{total_trainable_params:,} training parameters.')"
      ],
      "execution_count": null,
      "outputs": [
        {
          "output_type": "stream",
          "text": [
            "139,043,216 total parameters.\n",
            "685,672 training parameters.\n"
          ],
          "name": "stdout"
        }
      ]
    },
    {
      "cell_type": "markdown",
      "metadata": {
        "id": "gVUPTvIldr4L"
      },
      "source": [
        "## Moving the model to GPU if it is found\n",
        "\n"
      ]
    },
    {
      "cell_type": "code",
      "metadata": {
        "id": "WTpyPXD0J90Z"
      },
      "source": [
        "if train_on_gpu:\n",
        "    model = model.to('cuda')\n",
        "\n",
        "if multi_gpu:\n",
        "    model = nn.DataParallel(model)"
      ],
      "execution_count": null,
      "outputs": []
    },
    {
      "cell_type": "markdown",
      "metadata": {
        "id": "XHcJNDfPg98j"
      },
      "source": [
        "## Show Model Summary"
      ]
    },
    {
      "cell_type": "code",
      "metadata": {
        "colab": {
          "base_uri": "https://localhost:8080/"
        },
        "id": "QS-CsRhwehfh",
        "outputId": "17b7200b-3343-427a-8fed-7e9d54d51dc6"
      },
      "source": [
        "summary(model, input_size=train_set[0][0].shape)"
      ],
      "execution_count": null,
      "outputs": [
        {
          "output_type": "stream",
          "text": [
            "----------------------------------------------------------------\n",
            "        Layer (type)               Output Shape         Param #\n",
            "================================================================\n",
            "            Conv2d-1            [-1, 3, 32, 32]              30\n",
            "              ReLU-2            [-1, 3, 32, 32]               0\n",
            "            Conv2d-3           [-1, 64, 32, 32]           1,792\n",
            "              ReLU-4           [-1, 64, 32, 32]               0\n",
            "            Conv2d-5           [-1, 64, 32, 32]          36,928\n",
            "              ReLU-6           [-1, 64, 32, 32]               0\n",
            "         MaxPool2d-7           [-1, 64, 16, 16]               0\n",
            "            Conv2d-8          [-1, 128, 16, 16]          73,856\n",
            "              ReLU-9          [-1, 128, 16, 16]               0\n",
            "           Conv2d-10          [-1, 128, 16, 16]         147,584\n",
            "             ReLU-11          [-1, 128, 16, 16]               0\n",
            "        MaxPool2d-12            [-1, 128, 8, 8]               0\n",
            "           Conv2d-13            [-1, 256, 8, 8]         295,168\n",
            "             ReLU-14            [-1, 256, 8, 8]               0\n",
            "           Conv2d-15            [-1, 256, 8, 8]         590,080\n",
            "             ReLU-16            [-1, 256, 8, 8]               0\n",
            "           Conv2d-17            [-1, 256, 8, 8]         590,080\n",
            "             ReLU-18            [-1, 256, 8, 8]               0\n",
            "        MaxPool2d-19            [-1, 256, 4, 4]               0\n",
            "           Conv2d-20            [-1, 512, 4, 4]       1,180,160\n",
            "             ReLU-21            [-1, 512, 4, 4]               0\n",
            "           Conv2d-22            [-1, 512, 4, 4]       2,359,808\n",
            "             ReLU-23            [-1, 512, 4, 4]               0\n",
            "           Conv2d-24            [-1, 512, 4, 4]       2,359,808\n",
            "             ReLU-25            [-1, 512, 4, 4]               0\n",
            "        MaxPool2d-26            [-1, 512, 2, 2]               0\n",
            "           Conv2d-27            [-1, 512, 2, 2]       2,359,808\n",
            "             ReLU-28            [-1, 512, 2, 2]               0\n",
            "           Conv2d-29            [-1, 512, 2, 2]       2,359,808\n",
            "             ReLU-30            [-1, 512, 2, 2]               0\n",
            "           Conv2d-31            [-1, 512, 2, 2]       2,359,808\n",
            "             ReLU-32            [-1, 512, 2, 2]               0\n",
            "        MaxPool2d-33            [-1, 512, 1, 1]               0\n",
            "AdaptiveAvgPool2d-34            [-1, 512, 7, 7]               0\n",
            "           Linear-35                 [-1, 4096]     102,764,544\n",
            "             ReLU-36                 [-1, 4096]               0\n",
            "          Dropout-37                 [-1, 4096]               0\n",
            "           Linear-38                 [-1, 4096]      16,781,312\n",
            "             ReLU-39                 [-1, 4096]               0\n",
            "          Dropout-40                 [-1, 4096]               0\n",
            "           Linear-41                 [-1, 1000]       4,097,000\n",
            "             ReLU-42                 [-1, 1000]               0\n",
            "           Linear-43                  [-1, 512]         512,512\n",
            "             ReLU-44                  [-1, 512]               0\n",
            "           Linear-45                  [-1, 256]         131,328\n",
            "             ReLU-46                  [-1, 256]               0\n",
            "           Linear-47                  [-1, 128]          32,896\n",
            "             ReLU-48                  [-1, 128]               0\n",
            "           Linear-49                   [-1, 64]           8,256\n",
            "             ReLU-50                   [-1, 64]               0\n",
            "           Linear-51                   [-1, 10]             650\n",
            "       LogSoftmax-52                   [-1, 10]               0\n",
            "================================================================\n",
            "Total params: 139,043,216\n",
            "Trainable params: 685,672\n",
            "Non-trainable params: 138,357,544\n",
            "----------------------------------------------------------------\n",
            "Input size (MB): 0.00\n",
            "Forward/backward pass size (MB): 4.91\n",
            "Params size (MB): 530.41\n",
            "Estimated Total Size (MB): 535.32\n",
            "----------------------------------------------------------------\n"
          ],
          "name": "stdout"
        }
      ]
    },
    {
      "cell_type": "markdown",
      "metadata": {
        "id": "UkiLqMO_d-wQ"
      },
      "source": [
        "# Training the Model"
      ]
    },
    {
      "cell_type": "markdown",
      "metadata": {
        "id": "va5ZhV1leGdw"
      },
      "source": [
        "## Defining Loss Function"
      ]
    },
    {
      "cell_type": "code",
      "metadata": {
        "id": "pTh0PmbzGSOS"
      },
      "source": [
        "criterion = nn.NLLLoss()"
      ],
      "execution_count": null,
      "outputs": []
    },
    {
      "cell_type": "markdown",
      "metadata": {
        "id": "_Zt420t2ePYx"
      },
      "source": [
        "## Defining Training Process"
      ]
    },
    {
      "cell_type": "code",
      "metadata": {
        "id": "udsKruuVH3jg"
      },
      "source": [
        "def train(model, \n",
        "          criterion, \n",
        "          optimizer, \n",
        "          train_loader, \n",
        "          valid_loader, \n",
        "          checkpoint_file,\n",
        "          best_model_file_path, \n",
        "          training_history=None, \n",
        "          max_epochs_stop=3, \n",
        "          n_epochs=20, \n",
        "          train_on_gpu=False, \n",
        "          print_every=1):\n",
        "    \"\"\"Train a PyTorch Model\n",
        "\n",
        "    Params\n",
        "    --------\n",
        "        model (PyTorch model): cnn to train\n",
        "        criterion (PyTorch loss): objective to minimize\n",
        "        optimizer (PyTorch optimizier): optimizer to compute gradients of model parameters\n",
        "        train_loader (PyTorch dataloader): training dataloader to iterate through\n",
        "        valid_loader (PyTorch dataloader): validation dataloader used for early stopping\n",
        "        checkpoint_file (str ending in '.tar'): file path to save checkpoint\n",
        "        best_model_file_path (str ending in '.pt'): file path to save the model state dict\n",
        "        training_history (Pandas DataFrame): A DataFrame for storing training and validation loss and accuracy\n",
        "        max_epochs_stop (int): maximum number of epochs with no improvement in validation loss for early stopping\n",
        "        n_epochs (int): maximum number of training epochs\n",
        "        print_every (int): frequency of epochs to print training stats\n",
        "\n",
        "    Returns\n",
        "    --------\n",
        "        model (PyTorch model): trained cnn with best weights\n",
        "        training_history (DataFrame): history of train and validation loss and accuracy\n",
        "    \"\"\"\n",
        "\n",
        "    log = TrainingLog()\n",
        "    \n",
        "    # If early stopping is not chosen\n",
        "    if max_epochs_stop == 0:\n",
        "        max_epochs_stop = n_epochs\n",
        "\n",
        "    # Early stopping intialization\n",
        "    epochs_no_improve = 0\n",
        "    valid_loss_min = np.Inf\n",
        "\n",
        "    valid_max_acc = 0\n",
        "    if training_history is None:\n",
        "        training_history = pd.DataFrame(\n",
        "            columns=[\n",
        "                'train_loss', 'valid_loss', \n",
        "                'train_acc', 'valid_acc'\n",
        "            ]\n",
        "        )\n",
        "    elif isinstance(training_history, pd.DataFrame) and not training_history.empty:\n",
        "        print(\"Previous Training History:\")\n",
        "        print(training_history)\n",
        "\n",
        "    # Number of epochs already trained (if using loaded in model weights)\n",
        "    if not hasattr(model, 'epochs') or model.epochs == 0:\n",
        "        model.epochs = 0\n",
        "        print(f'Starting Training from Scratch.\\n')\n",
        "    else:\n",
        "        print(f'Model has been trained for: {model.epochs} epochs.\\n')\n",
        "\n",
        "    prev_epochs = model.epochs\n",
        "        \n",
        "    # try:\n",
        "    #     print(f'Model has been trained for: {model.epochs} epochs.\\n')\n",
        "    # except:\n",
        "    #     model.epochs = 0\n",
        "    #     print(f'Starting Training from Scratch.\\n')\n",
        "\n",
        "    overall_start = timer()\n",
        "    log.print_header()\n",
        "\n",
        "    # Main loop\n",
        "    for epoch in range(n_epochs):\n",
        "        log.update_row(epoch_num=model.epochs + 1)\n",
        "\n",
        "        # keep track of training and validation loss each epoch\n",
        "        train_loss = 0.0\n",
        "        valid_loss = 0.0\n",
        "\n",
        "        train_acc = 0.0\n",
        "        valid_acc = 0.0\n",
        "\n",
        "        # Set to training\n",
        "        model.train()\n",
        "        start = timer()\n",
        "\n",
        "        # Training loop\n",
        "        for ii, (data, target) in enumerate(train_loader):\n",
        "            # Tensors to gpu\n",
        "            if train_on_gpu:\n",
        "                data, target = data.cuda(), target.cuda()\n",
        "\n",
        "            # Clear gradients\n",
        "            optimizer.zero_grad()\n",
        "            # Predicted outputs are log probabilities\n",
        "            output = model(data)\n",
        "\n",
        "            # Loss and backpropagation of gradients\n",
        "            loss = criterion(output, target)\n",
        "            loss.backward()\n",
        "\n",
        "            # Update the parameters\n",
        "            optimizer.step()\n",
        "\n",
        "            # Track train loss by multiplying average loss by number of examples in batch\n",
        "            train_loss += loss.item() * data.size(0)\n",
        "\n",
        "            # Calculate accuracy by finding max log probability\n",
        "            _, pred = torch.max(output, dim=1)\n",
        "            correct_tensor = pred.eq(target.data.view_as(pred))\n",
        "            \n",
        "            # Need to convert correct tensor from int to float to average\n",
        "            accuracy = torch.mean(correct_tensor.type(torch.FloatTensor))\n",
        "            \n",
        "            # Multiply average accuracy times the number of examples in batch\n",
        "            train_acc += accuracy.item() * data.size(0)\n",
        "\n",
        "            # Track training progress\n",
        "            log.update_row(tp=(ii+1)/len(train_loader), tt=timer()-start)\n",
        "\n",
        "        # After training loops ends, start validation\n",
        "        else:\n",
        "            model.epochs += 1\n",
        "\n",
        "            # Calculate average train loss and accuracy\n",
        "            train_loss = train_loss / len(train_loader.dataset)\n",
        "            train_acc = train_acc / len(train_loader.dataset)\n",
        "\n",
        "            # Print Training Result\n",
        "            log.update_row(tl=train_loss, ta=train_acc)\n",
        "\n",
        "            # Don't need to keep track of gradients\n",
        "            with torch.no_grad():\n",
        "                # Set to evaluation mode\n",
        "                model.eval()\n",
        "\n",
        "                # Validation loop\n",
        "                start = timer()\n",
        "                for jj, (data, target) in enumerate(valid_loader):\n",
        "                    # Tensors to gpu\n",
        "                    if train_on_gpu:\n",
        "                        data, target = data.cuda(), target.cuda()\n",
        "\n",
        "                    # Forward pass\n",
        "                    output = model(data)\n",
        "\n",
        "                    # Validation loss\n",
        "                    loss = criterion(output, target)\n",
        "                    \n",
        "                    # Multiply average loss times the number of examples in batch\n",
        "                    valid_loss += loss.item() * data.size(0)\n",
        "\n",
        "                    # Calculate validation accuracy\n",
        "                    _, pred = torch.max(output, dim=1)\n",
        "                    correct_tensor = pred.eq(target.data.view_as(pred))\n",
        "                    accuracy = torch.mean(correct_tensor.type(torch.FloatTensor))\n",
        "                    \n",
        "                    # Multiply average accuracy times the number of examples\n",
        "                    valid_acc += accuracy.item() * data.size(0)\n",
        "                    \n",
        "                    # Track validation progress\n",
        "                    log.update_row(vp=(jj+1)/len(valid_loader), vt=timer()-start)\n",
        "\n",
        "                # Calculate average validation loss and accuracy\n",
        "                valid_loss = valid_loss / len(valid_loader.dataset)\n",
        "                valid_acc = valid_acc / len(valid_loader.dataset)\n",
        "\n",
        "                # Print Validation Result\n",
        "                log.update_row(vl=valid_loss, va=valid_acc)\n",
        "\n",
        "                # training_history.append([train_loss, valid_loss, train_acc, valid_acc])\n",
        "                training_history.loc[model.epochs] = {\n",
        "                    'train_loss': train_loss,\n",
        "                    'valid_loss': valid_loss,\n",
        "                    'train_acc' : train_acc,\n",
        "                    'valid_acc' : valid_acc\n",
        "                }\n",
        "\n",
        "                # Save the model if validation loss decreases\n",
        "                if valid_loss < valid_loss_min:\n",
        "                    # Save checkpoint\n",
        "                    save_checkpoint(model, optimizer, training_history, checkpoint_file)\n",
        "                    # torch.save(model.state_dict(), best_model_file_path)\n",
        "                    \n",
        "                    # Track improvement\n",
        "                    epochs_no_improve = 0\n",
        "                    valid_loss_min = valid_loss\n",
        "                    valid_best_acc = valid_acc\n",
        "                    best_epoch = epoch + 1\n",
        "\n",
        "                # Otherwise increment count of epochs with no improvement\n",
        "                else:\n",
        "                    epochs_no_improve += 1\n",
        "                    # Trigger early stopping\n",
        "                    if epochs_no_improve >= max_epochs_stop:\n",
        "                        log.finish()\n",
        "                        print(\n",
        "                            f'\\nEarly Stopping! Total epochs: {prev_epochs + epoch + 1}. ' \\\n",
        "                            f'Best epoch: {prev_epochs + best_epoch} with ' \\\n",
        "                            f'loss: {valid_loss_min:.4f} and acc: {valid_best_acc:.2%}'\n",
        "                        )\n",
        "                        total_time = timer() - overall_start\n",
        "                        print(\n",
        "                            f'{total_time:.2f} total seconds elapsed. {total_time / (epoch + 1):.2f} seconds per epoch.'\n",
        "                        )\n",
        "\n",
        "                        # Load the best state dict\n",
        "                        checkpoint = load_checkpoint(checkpoint_file, train_on_gpu)   \n",
        "                        model.load_state_dict(checkpoint['model_state_dict'])\n",
        "                        \n",
        "                        # Attach the optimizer\n",
        "                        model.optimizer = optimizer\n",
        "                        \n",
        "                        # Save checkpoint\n",
        "                        save_checkpoint(model, optimizer, training_history, checkpoint_file)\n",
        "                        save_best_model(model, best_model_file_path)\n",
        "                        \n",
        "                        # Return Best Model and latest training_history\n",
        "                        return model, training_history\n",
        "        if (epoch + 1) % print_every == 0:\n",
        "            log.new_row()\n",
        "    log.finish()\n",
        "    \n",
        "    # Load the best state dict\n",
        "    checkpoint = load_checkpoint(checkpoint_file, train_on_gpu) \n",
        "    model.load_state_dict(checkpoint['model_state_dict'])\n",
        "    \n",
        "    # Attach the optimizer\n",
        "    model.optimizer = optimizer\n",
        "    \n",
        "    # Save checkpoint\n",
        "    save_checkpoint(model, optimizer, training_history, checkpoint_file)\n",
        "    save_best_model(model, best_model_file_path)\n",
        "\n",
        "    # Record overall time and print out stats\n",
        "    total_time = timer() - overall_start\n",
        "    print(\n",
        "        f'\\nBest epoch: {prev_epochs + best_epoch} with loss: {valid_loss_min:.2f} and acc: {valid_best_acc:.2%}'\n",
        "    )\n",
        "    print(\n",
        "        f'{total_time:.2f} total seconds elapsed. {total_time / (epoch + 1):.2f} seconds per epoch.'\n",
        "    )\n",
        "    \n",
        "    return model, training_history"
      ],
      "execution_count": null,
      "outputs": []
    },
    {
      "cell_type": "markdown",
      "metadata": {
        "id": "ru2RetXxeWL-"
      },
      "source": [
        "## Training"
      ]
    },
    {
      "cell_type": "code",
      "metadata": {
        "colab": {
          "base_uri": "https://localhost:8080/"
        },
        "id": "3ucGbzKZQAl2",
        "outputId": "f88eaf70-7a7e-4b54-affc-834f724ca0b1"
      },
      "source": [
        "trained_model, training_history = train(\n",
        "    model=model,\n",
        "    criterion=criterion,\n",
        "    optimizer=optimizer,\n",
        "    train_loader=train_loader, \n",
        "    valid_loader=valid_loader, \n",
        "    checkpoint_file=checkpoint_file,\n",
        "    best_model_file_path=best_model_file_path, \n",
        "    training_history=training_history, \n",
        "    max_epochs_stop=10,\n",
        "    n_epochs=100,\n",
        "    train_on_gpu=train_on_gpu,\n",
        "    print_every=5\n",
        ")"
      ],
      "execution_count": null,
      "outputs": [
        {
          "output_type": "stream",
          "text": [
            "Starting Training from Scratch.\n",
            "\n",
            "\n",
            "|       |                 Training                 |                Validation                |\n",
            "| Epoch |------------------------------------------|------------------------------------------|\n",
            "|       |      Progress      |   Loss   | Accuracy |      Progress      |   Loss   | Accuracy |\n",
            "|-------|--------------------|----------|----------|--------------------|----------|----------|\n",
            "|   5   |  100.00% (25.37s)  |  0.6996  |  74.14%  |  100.00% (2.74s)   |  0.6529  |  76.08%  |\n",
            "|  10   |  100.00% (25.50s)  |  0.6081  |  77.31%  |  100.00% (2.77s)   |  0.5792  |  78.38%  |\n",
            "|  15   |  100.00% (25.57s)  |  0.5695  |  78.71%  |  100.00% (2.78s)   |  0.5345  |  80.21%  |\n",
            "|  20   |  100.00% (25.42s)  |  0.5458  |  79.48%  |  100.00% (2.75s)   |  0.5281  |  80.43%  |\n",
            "|  25   |  100.00% (25.34s)  |  0.5282  |  80.21%  |  100.00% (2.75s)   |  0.5202  |  80.93%  |\n",
            "|  30   |  100.00% (25.40s)  |  0.5109  |  80.82%  |  100.00% (2.76s)   |  0.4897  |  82.15%  |\n",
            "|  35   |  100.00% (25.51s)  |  0.5019  |  81.13%  |  100.00% (2.75s)   |  0.4739  |  82.67%  |\n",
            "|  40   |  100.00% (25.28s)  |  0.4929  |  81.24%  |  100.00% (2.75s)   |  0.4823  |  81.68%  |\n",
            "|  45   |  100.00% (25.55s)  |  0.4815  |  81.63%  |  100.00% (2.74s)   |  0.4848  |  81.54%  |\n",
            "|  50   |  100.00% (25.44s)  |  0.4723  |  82.07%  |  100.00% (2.76s)   |  0.4625  |  82.85%  |\n",
            "|  55   |  100.00% (25.50s)  |  0.4649  |  82.46%  |  100.00% (2.77s)   |  0.4795  |  82.11%  |\n",
            "|  60   |  100.00% (25.54s)  |  0.4605  |  82.49%  |  100.00% (2.78s)   |  0.4638  |  82.82%  |\n",
            "|  65   |  100.00% (25.46s)  |  0.4544  |  82.94%  |  100.00% (2.79s)   |  0.4487  |  83.60%  |\n",
            "|  70   |  100.00% (25.37s)  |  0.4453  |  83.15%  |  100.00% (2.74s)   |  0.4565  |  82.57%  |\n",
            "|  72   |  100.00% (25.39s)  |  0.4468  |  82.94%  |  100.00% (2.79s)   |  0.4526  |  83.16%  |\n",
            "|---------------------------------------------------------------------------------------------|\n",
            "\n",
            "\n",
            "Early Stopping! Total epochs: 72. Best epoch: 62 with loss: 0.4474 and acc: 83.32%\n",
            "2098.79 total seconds elapsed. 29.15 seconds per epoch.\n"
          ],
          "name": "stdout"
        }
      ]
    },
    {
      "cell_type": "markdown",
      "metadata": {
        "id": "sR12hi6ca2XN"
      },
      "source": [
        "## Training Results"
      ]
    },
    {
      "cell_type": "markdown",
      "metadata": {
        "id": "XgUyb50pa7-a"
      },
      "source": [
        "### Training and Validation Losses"
      ]
    },
    {
      "cell_type": "code",
      "metadata": {
        "id": "lK70d3ncnSIE",
        "colab": {
          "base_uri": "https://localhost:8080/",
          "height": 404
        },
        "outputId": "3a706c43-7998-4018-9b9c-30e4581e43be"
      },
      "source": [
        "plt.figure(figsize=(8, 6))\n",
        "plt.plot(training_history['train_loss'], label='Training Set')\n",
        "plt.plot(training_history['valid_loss'], label='Validation Set')\n",
        "plt.legend()\n",
        "plt.title(\"Training and Validation Losses\")\n",
        "plt.xticks(np.arange(len(training_history) + 1, step=5))\n",
        "plt.xlabel(\"Epochs\")\n",
        "plt.show()"
      ],
      "execution_count": null,
      "outputs": [
        {
          "output_type": "display_data",
          "data": {
            "image/png": "[encoded data removed]",
            "text/plain": [
              "<Figure size 576x432 with 1 Axes>"
            ]
          },
          "metadata": {
            "tags": [],
            "needs_background": "light"
          }
        }
      ]
    },
    {
      "cell_type": "markdown",
      "metadata": {
        "id": "W-5j_4WXbBAc"
      },
      "source": [
        "### Training and Validation Accuracies"
      ]
    },
    {
      "cell_type": "code",
      "metadata": {
        "id": "fcKgQWsJiyui",
        "colab": {
          "base_uri": "https://localhost:8080/",
          "height": 404
        },
        "outputId": "35753356-1987-4c9f-dde1-115dd604ab90"
      },
      "source": [
        "plt.figure(figsize=(8, 6))\n",
        "plt.plot(training_history['train_acc'], label='Training Set')\n",
        "plt.plot(training_history['valid_acc'], label='Validation Set')\n",
        "plt.legend()\n",
        "plt.title(\"Training and Validation Accuracy\")\n",
        "plt.xticks(np.arange(len(training_history) + 1, step=5))\n",
        "plt.xlabel(\"Epochs\")\n",
        "plt.show()"
      ],
      "execution_count": null,
      "outputs": [
        {
          "output_type": "display_data",
          "data": {
            "image/png": "[encoded data removed]",
            "text/plain": [
              "<Figure size 576x432 with 1 Axes>"
            ]
          },
          "metadata": {
            "tags": [],
            "needs_background": "light"
          }
        }
      ]
    },
    {
      "cell_type": "markdown",
      "metadata": {
        "id": "qbJnt2RjaPIk"
      },
      "source": [
        "# Evaluation"
      ]
    },
    {
      "cell_type": "markdown",
      "metadata": {
        "id": "7DU19a45bTyL"
      },
      "source": [
        "## Testing of the Trained Model"
      ]
    },
    {
      "cell_type": "code",
      "metadata": {
        "id": "N_CMJl4V6xYG"
      },
      "source": [
        "def evaluate(model, criterion, data_loader):\n",
        "    total_loss = 0\n",
        "    total_acc = 0\n",
        "\n",
        "    model.eval()\n",
        "    for data, target in data_loader:\n",
        "        if train_on_gpu:\n",
        "            data, target = data.cuda(), target.cuda()\n",
        "\n",
        "        # Forward Pass\n",
        "        output = model(data)\n",
        "\n",
        "        # Loss\n",
        "        loss = criterion(output, target)\n",
        "        # Multiply average loss times the number of examples in batch\n",
        "        total_loss += loss.item() * data.size(0)\n",
        "\n",
        "        # Calculate accuracy\n",
        "        _, pred = torch.max(output, dim=1)\n",
        "        correct_tensor = pred.eq(target.data.view_as(pred))\n",
        "        accuracy = torch.mean(\n",
        "            correct_tensor.type(torch.FloatTensor))\n",
        "        # Multiply average accuracy times the number of examples\n",
        "        total_acc += accuracy.item() * data.size(0)\n",
        "\n",
        "    total_loss = total_loss / len(data_loader.dataset)\n",
        "    total_acc = total_acc / len(data_loader.dataset)\n",
        "\n",
        "    return total_loss, total_acc\n"
      ],
      "execution_count": null,
      "outputs": []
    },
    {
      "cell_type": "code",
      "metadata": {
        "colab": {
          "base_uri": "https://localhost:8080/"
        },
        "id": "oWNsfMDwdUYG",
        "outputId": "54f58735-7a4b-4122-db13-8d1809fe7bf4"
      },
      "source": [
        "avg_loss, accuracy = evaluate(trained_model, criterion, test_loader)\n",
        "print(\"Average Test Loss: {:.4F}\\nTest Accuracy: {:.2%}\".format(avg_loss, accuracy))"
      ],
      "execution_count": null,
      "outputs": [
        {
          "output_type": "stream",
          "text": [
            "Average Test Loss: 0.4559\n",
            "Test Accuracy: 82.83%\n"
          ],
          "name": "stdout"
        }
      ]
    },
    {
      "cell_type": "markdown",
      "metadata": {
        "id": "vs0JdbG4aFEy"
      },
      "source": [
        "## Evaluating the Model's Performance with some example"
      ]
    },
    {
      "cell_type": "code",
      "metadata": {
        "colab": {
          "base_uri": "https://localhost:8080/",
          "height": 412
        },
        "id": "awsoPjjGEobq",
        "outputId": "14b8f37d-7600-404e-fcf4-331edd435597"
      },
      "source": [
        "from torch.utils.data import Subset\n",
        "\n",
        "num_examples = 20\n",
        "\n",
        "indices = np.random.randint(low=0, high=len(test_set), size=num_examples)\n",
        "subset = Subset(test_set, indices)\n",
        "subset_loader = DataLoader(subset, num_examples)\n",
        "data, target = next(iter(subset_loader))\n",
        "if train_on_gpu:\n",
        "    data, target = data.cuda(), target.cuda()\n",
        "\n",
        "output = trained_model(data)\n",
        "_, pred = torch.max(output, dim=1)\n",
        "\n",
        "plt.figure(figsize=(25, 10))\n",
        "for idx in range(num_examples):\n",
        "    plt.subplot(np.ceil(num_examples/5), 5, idx+1)\n",
        "    plt.imshow(data[idx].cpu().numpy()[0])\n",
        "    plt.xticks([])\n",
        "    plt.yticks([])\n",
        "    plt.title(\"Pred: {} Actual: {}\".format(classes[pred[idx].item()], classes[target[idx].item()]),\n",
        "              color= ('green' if pred[idx] == target[idx] else 'red'))\n",
        "plt.show()"
      ],
      "execution_count": null,
      "outputs": [
        {
          "output_type": "display_data",
          "data": {
            "image/png": "[encoded data removed]",
            "text/plain": [
              "<Figure size 1800x720 with 20 Axes>"
            ]
          },
          "metadata": {
            "tags": []
          }
        }
      ]
    },
    {
      "cell_type": "code",
      "metadata": {
        "colab": {
          "base_uri": "https://localhost:8080/",
          "height": 188
        },
        "id": "wts2LC74iLyr",
        "outputId": "b66c973d-be11-47e0-e26d-4faa709aa73f"
      },
      "source": [
        "jovian.commit(project=\"fashionmnist-vgg-transfer-learning-pytorch-ee68a\",\n",
        "              files=[\"TrainingLog.py\"], outputs=[\"checkpoint.tar\", \n",
        "                                                 \"best_model.pt\",\n",
        "                                                 \"best_model_parameters.pt\"])"
      ],
      "execution_count": null,
      "outputs": [
        {
          "output_type": "stream",
          "text": [
            "[jovian] Detected Colab notebook...\u001b[0m\n",
            "[jovian] Uploading colab notebook to Jovian...\u001b[0m\n",
            "[jovian] Capturing environment..\u001b[0m\n",
            "[jovian] Uploading additional files...\u001b[0m\n",
            "[jovian] Uploading additional outputs...\u001b[0m\n"
          ],
          "name": "stdout"
        },
        {
          "output_type": "stream",
          "text": [
            "\u001b[31m[jovian] Error: ('Connection aborted.', BrokenPipeError(32, 'Broken pipe')) (checkpoint.tar)\u001b[0m\n",
            "\u001b[31m[jovian] Error: ('Connection aborted.', BrokenPipeError(32, 'Broken pipe')) (best_model.pt)\u001b[0m\n",
            "\u001b[31m[jovian] Error: Ignoring \"best_model_parameters.pt\" (not found)\u001b[0m\n"
          ],
          "name": "stderr"
        },
        {
          "output_type": "stream",
          "text": [
            "[jovian] Committed successfully! https://jovian.ai/arkonil/fashionmnist-vgg-transfer-learning-pytorch-ee68a\u001b[0m\n"
          ],
          "name": "stdout"
        },
        {
          "output_type": "execute_result",
          "data": {
            "application/vnd.google.colaboratory.intrinsic+json": {
              "type": "string"
            },
            "text/plain": [
              "'https://jovian.ai/arkonil/fashionmnist-vgg-transfer-learning-pytorch-ee68a'"
            ]
          },
          "metadata": {
            "tags": []
          },
          "execution_count": 34
        }
      ]
    }
  ]
}